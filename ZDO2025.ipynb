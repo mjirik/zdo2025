{
 "cells": [
  {
   "cell_type": "markdown",
   "id": "9bd8d257",
   "metadata": {},
   "source": [
    "# Segmentace ledvin prasete domácího z CT snímků\n",
    "\n",
    "Cílem je automaticky segmentovat zvlášť levou a zvlášť pravou ledvinu.\n",
    "\n",
    "Odevzdání musí splňovat následující podmínky:\n",
    "    \n",
    " * Kód musí být uložen a dostupný na metacentru a přístupný pro čtení pro \"others\"\n",
    " * Dejte nám vědět, kde je Váš kód uložen prostřednictvím [formuláře](https://forms.gle/E7TmtVPzqoH9g9US8)\n",
    " * Musí obsahovat soubor `run_zdo.py`\n",
    " * Musí být spustitelný:\n",
    "     \n",
    "         run_zdo.py vstupni_adresar vystupni_adresar\n",
    "\n",
    "\n",
    " * všechny soubory s příponou nii.gz jakkoliv vnořené ve vstupním adresáři jsou zpracovány\n",
    " * výsledky jsou ve výstupním adresáři, struktura kopíruje vstupní adresár\n",
    " * levá ledvina má příponu `.left_kidney.nii.gz` pravá má příponu `.right_kidney.nii.gz`\n",
    " * ve výstupním adresáři je rovněž adresář `visualization` ve kterém jsou \n",
    " * Doba zpracování jednoho CT nesmí přesáhnout 30s\n",
    " \n",
    " * Kód musí být uložen na GitHub repozitář (soukromém) a vyučující do něj musí být přidán jako spolupracovník\n",
    " * Po uplynutí odevzdání bude kód zveřejněn pod MIT licencí\n",
    " \n",
    "\n",
    "# Trocha anatomie\n",
    "\n",
    "\n",
    "![97a3af7b91f1a2ff656d763d676c82213b6249ee.png](97a3af7b91f1a2ff656d763d676c82213b6249ee.png)\n",
    "Computed tomography cuts with intravenous contrast in animal 1. (a) transversal section; (b) sagittal section; (c) coronal section; 1: right kidney; 2: left kidney; 3: abdominal aorta; 4: caudal vena cava; 5: right renal vein; 6: left renal vein; 7: liver; 8: small intestine; 9: large intestine; 10: stomach ([převzato z Image-guided study of swine anatomy...](https://doi.org/10.1590/ACB351208))\n",
    "\n",
    "\n",
    "# Inspirace \n",
    "\n",
    " * Zkuste neuronku: [Segment Anything Model](https://colab.research.google.com/drive/1PDyN7siozm25lQYpiDgUocSGMca-fx1W?usp=sharing)\n",
    " * [Afinní transformace v io3d](https://github.com/mjirik/io3d/blob/master/examples/affine_transform.ipynb)\n",
    " * [Metriky pro 3D segmentaci orgánů](https://github.com/mjirik/imma/blob/master/examples/sliver_evaluation.ipynb)\n",
    " * [Anatomie prasete](https://www.scielo.br/j/acb/a/4fCHJrFrtsmh4x46W83VTzr/?lang=en)"
   ]
  },
  {
   "cell_type": "code",
   "execution_count": 1,
   "id": "43ad79df",
   "metadata": {},
   "outputs": [],
   "source": [
    "# nastavení přístupu pro others ve dvou krocích (první pro všechny soubory, druhý ještě přidává možnost procházení adresářům)\n",
    "# chmod -R o+r /cesta/k/adresari\n",
    "# find /cesta/k/adresari -type d -exec chmod o+x {} \\;"
   ]
  },
  {
   "cell_type": "markdown",
   "id": "51bf2157",
   "metadata": {},
   "source": [
    "\n"
   ]
  },
  {
   "cell_type": "code",
   "execution_count": 1,
   "id": "3996f0ec",
   "metadata": {},
   "outputs": [
    {
     "name": "stdout",
     "output_type": "stream",
     "text": [
      "Defaulting to user installation because normal site-packages is not writeable\n",
      "Collecting git+https://github.com/mjirik/io3d\n",
      "  Cloning https://github.com/mjirik/io3d to /var/tmp/pbs.9078672.pbs-m1.metacentrum.cz/pip-req-build-s4c8xuz5\n",
      "  Running command git clone --filter=blob:none --quiet https://github.com/mjirik/io3d /var/tmp/pbs.9078672.pbs-m1.metacentrum.cz/pip-req-build-s4c8xuz5\n",
      "  Resolved https://github.com/mjirik/io3d to commit adcec452fdbf683990c8e8fede1835f5b0e0dfaf\n",
      "  Preparing metadata (setup.py) ... \u001b[?25ldone\n",
      "\u001b[?25hDefaulting to user installation because normal site-packages is not writeable\n",
      "Collecting git+https://github.com/mjirik/imma\n",
      "  Cloning https://github.com/mjirik/imma to /var/tmp/pbs.9078672.pbs-m1.metacentrum.cz/pip-req-build-alsb7g9m\n",
      "  Running command git clone --filter=blob:none --quiet https://github.com/mjirik/imma /var/tmp/pbs.9078672.pbs-m1.metacentrum.cz/pip-req-build-alsb7g9m\n",
      "  Resolved https://github.com/mjirik/imma to commit 40bb772750dd22ba8d4d97d623ec7b846d8031ca\n",
      "  Preparing metadata (setup.py) ... \u001b[?25ldone\n",
      "\u001b[?25hDefaulting to user installation because normal site-packages is not writeable\n",
      "Requirement already satisfied: tqdm in /auto/plzen1/home/mjirik/.local/lib/python3.10/site-packages (4.66.5)\n",
      "Requirement already satisfied: scikit-image in /auto/plzen1/home/mjirik/.local/lib/python3.10/site-packages (0.24.0)\n",
      "Requirement already satisfied: loguru in /auto/plzen1/home/mjirik/.local/lib/python3.10/site-packages (0.7.2)\n",
      "Requirement already satisfied: pydicom in /auto/plzen1/home/mjirik/.local/lib/python3.10/site-packages (3.0.1)\n",
      "Requirement already satisfied: nibabel in /auto/plzen1/home/mjirik/.local/lib/python3.10/site-packages (5.2.1)\n",
      "Requirement already satisfied: numpy>=1.23 in /usr/local/lib/python3.10/dist-packages (from scikit-image) (1.24.4)\n",
      "Requirement already satisfied: scipy>=1.9 in /usr/local/lib/python3.10/dist-packages (from scikit-image) (1.12.0)\n",
      "Requirement already satisfied: networkx>=2.8 in /usr/local/lib/python3.10/dist-packages (from scikit-image) (3.2.1)\n",
      "Requirement already satisfied: pillow>=9.1 in /usr/local/lib/python3.10/dist-packages (from scikit-image) (10.2.0)\n",
      "Requirement already satisfied: imageio>=2.33 in /auto/plzen1/home/mjirik/.local/lib/python3.10/site-packages (from scikit-image) (2.35.1)\n",
      "Requirement already satisfied: tifffile>=2022.8.12 in /auto/plzen1/home/mjirik/.local/lib/python3.10/site-packages (from scikit-image) (2024.9.20)\n",
      "Requirement already satisfied: packaging>=21 in /usr/local/lib/python3.10/dist-packages (from scikit-image) (23.2)\n",
      "Requirement already satisfied: lazy-loader>=0.4 in /auto/plzen1/home/mjirik/.local/lib/python3.10/site-packages (from scikit-image) (0.4)\n"
     ]
    }
   ],
   "source": [
    "\n",
    "%load_ext autoreload\n",
    "%autoreload 2\n",
    "\n",
    "\n",
    "# !pip install git+https://github.com/mjirik/io3d --upgrade --force-reinstall \n",
    "# !pip install git+https://github.com/mjirik/imma --upgrade --force-reinstall \n",
    "    \n",
    "!pip install git+https://github.com/mjirik/io3d \n",
    "!pip install git+https://github.com/mjirik/imma \n",
    "\n",
    "!pip install tqdm scikit-image loguru pydicom nibabel"
   ]
  },
  {
   "cell_type": "code",
   "execution_count": 3,
   "id": "5cb651b7",
   "metadata": {},
   "outputs": [],
   "source": [
    "from pathlib import Path\n",
    "import os\n",
    "import io3d\n",
    "import matplotlib.pyplot as plt\n",
    "import imma\n",
    "import numpy as np"
   ]
  },
  {
   "cell_type": "code",
   "execution_count": 5,
   "id": "3b2c1038",
   "metadata": {},
   "outputs": [],
   "source": [
    "dataset_path = Path(os.environ.get(\"DATA_PP\", default=\"/storage/plzen4-ntis/home/mjirik/data/biomedical/orig/pilsen_pigs_all/transplantation_nii_transposed_zdo\"))\n",
    "assert dataset_path.exists(), \"Data not found\""
   ]
  },
  {
   "cell_type": "markdown",
   "id": "c4e1d35f",
   "metadata": {},
   "source": [
    "# Process one 3D image"
   ]
  },
  {
   "cell_type": "code",
   "execution_count": 6,
   "id": "37c09175",
   "metadata": {},
   "outputs": [],
   "source": [
    "fn = list(dataset_path.glob(\"**/*.nii.gz\"))[0]"
   ]
  },
  {
   "cell_type": "code",
   "execution_count": 7,
   "id": "54ac757a",
   "metadata": {},
   "outputs": [
    {
     "data": {
      "text/plain": [
       "(0.9017539, 0.9017539, 0.8)"
      ]
     },
     "execution_count": 7,
     "metadata": {},
     "output_type": "execute_result"
    }
   ],
   "source": [
    "datap = io3d.read(fn)\n",
    "# size of voxel\n",
    "datap.voxelsize_mm"
   ]
  },
  {
   "cell_type": "code",
   "execution_count": 8,
   "id": "55ac9b7d",
   "metadata": {},
   "outputs": [
    {
     "data": {
      "image/png": "[encoded data removed]",
      "text/plain": [
       "<Figure size 640x480 with 2 Axes>"
      ]
     },
     "metadata": {},
     "output_type": "display_data"
    }
   ],
   "source": [
    "# show i-th slice\n",
    "i = 30\n",
    "plt.imshow(datap.data3d[:,:,i], cmap=\"gray\", clim=[-40, 300])\n",
    "plt.colorbar()\n",
    "plt.show()"
   ]
  },
  {
   "cell_type": "markdown",
   "id": "f59ec5a8",
   "metadata": {},
   "source": [
    "## My segmentation algorithm"
   ]
  },
  {
   "cell_type": "code",
   "execution_count": 9,
   "id": "e1417d64",
   "metadata": {},
   "outputs": [],
   "source": [
    "seg = datap.data3d > 55"
   ]
  },
  {
   "cell_type": "markdown",
   "id": "c2ad1192",
   "metadata": {},
   "source": [
    "## Fake Ground Truth Segmentation"
   ]
  },
  {
   "cell_type": "code",
   "execution_count": 10,
   "id": "33401bc4",
   "metadata": {},
   "outputs": [
    {
     "data": {
      "text/plain": [
       "<matplotlib.image.AxesImage at 0x147d9c3f5810>"
      ]
     },
     "execution_count": 10,
     "metadata": {},
     "output_type": "execute_result"
    },
    {
     "data": {
      "image/png": "[encoded data removed]",
      "text/plain": [
       "<Figure size 640x480 with 2 Axes>"
      ]
     },
     "metadata": {},
     "output_type": "display_data"
    }
   ],
   "source": [
    "# fake_segmentation = np.zeros_like(dp_liver.data3d)\n",
    "\n",
    "\n",
    "center = [40, 300, 200]\n",
    "r = 30\n",
    "\n",
    "sh = datap.data3d.shape\n",
    "def make_sphere(r, center, shape):\n",
    "    sh = shape\n",
    "    xx,yy,zz = np.meshgrid(list(range(sh[0])), list(range(sh[1])), list(range(sh[2])), indexing='ij')\n",
    "    fake_gt = (xx-center[0])**2 + (yy-center[1])**2 + (zz-center[2])**2 - r**2\n",
    "    return fake_gt < 0\n",
    "\n",
    "sph = make_sphere(90, [40, 250, 200], sh)\n",
    "sph += make_sphere(60, [30, 200, 300], sh)\n",
    "\n",
    "fake_gt = sph\n",
    "\n",
    " # fake_segmentation = skimage.morphology.ball(30)\n",
    "# plt.imshow(fake_segmentation[40,:,:])\n",
    "fig, axs = plt.subplots(1, 2)\n",
    "axs[0].imshow(fake_gt[50,:,:])\n",
    "axs[1].imshow(fake_gt[:,200,:], aspect=datap.voxelsize_mm[0]/datap.voxelsize_mm[1])"
   ]
  },
  {
   "cell_type": "markdown",
   "id": "7fb217e8",
   "metadata": {},
   "source": [
    "# Evaluation\n",
    "\n",
    "Described in paper\n",
    "\n",
    "Heimann, T., van Ginneken, B., Styner, M. a, Arzhaeva, Y., Aurich, V., Bauer, C., … Wolf, I. (2009). Comparison and evaluation of methods for liver segmentation from CT datasets. IEEE Transactions on Medical Imaging, 28(8), 1251–1265. https://doi.org/10.1109/TMI.2009.2013851\n",
    "\n",
    "## General metrics independent on volume type\n",
    "compare_volumes(ground_true, segmentation, voxelsize_mm)\n",
    "\n",
    " * `volume1_mm3`: Ground True volume in [mm^3] \n",
    " * `volume2_mm3`: Volume of segmentation in [mm^3]\n",
    " * `err1_mm3`: undersegmentation\n",
    " * `err2_mm3`: oversegmentation\n",
    " * `err1_percent`: undersegmentation in [%]\n",
    " * `err2_percent`: oversegmentation in [%]\n",
    " * `vd`: Volume difference, negative is means smaller volume of segmentation than ground true\n",
    " * `voe`: Volumetric Error\n",
    " * `avgd`: Average surface difference"
   ]
  },
  {
   "cell_type": "code",
   "execution_count": 11,
   "id": "67cb8981",
   "metadata": {},
   "outputs": [],
   "source": [
    "import imma.volumetry_evaluation"
   ]
  },
  {
   "cell_type": "code",
   "execution_count": 12,
   "id": "4bd5829e",
   "metadata": {},
   "outputs": [
    {
     "data": {
      "text/plain": [
       "{'volume1_mm3': 10228053.471165419,\n",
       " 'volume2_mm3': 2026794.5583053827,\n",
       " 'err1_mm3': 9911946.238706589,\n",
       " 'err2_mm3': 1710687.3258465528,\n",
       " 'err1_percent': 161.763674504491,\n",
       " 'err2_percent': 27.918540021592175,\n",
       " 'vd': -80.1839659518866,\n",
       " 'voe': 97.35225650817425,\n",
       " 'avgd': 189.82053589827342,\n",
       " 'rmsd': 44977.388003791486,\n",
       " 'maxd': 448.43003552519144,\n",
       " 'dice': 0.9484110726304159,\n",
       " 'jaccard': 0.026477434918257478}"
      ]
     },
     "execution_count": 12,
     "metadata": {},
     "output_type": "execute_result"
    }
   ],
   "source": [
    "\n",
    "evaluation = imma.volumetry_evaluation.compare_volumes(seg, fake_gt, voxelsize_mm = datap.voxelsize_mm)\n",
    "evaluation"
   ]
  },
  {
   "cell_type": "code",
   "execution_count": null,
   "id": "9f1704e5",
   "metadata": {},
   "outputs": [],
   "source": []
  }
 ],
 "metadata": {
  "kernelspec": {
   "display_name": "Python 3 (ipykernel)",
   "language": "python",
   "name": "python3"
  },
  "language_info": {
   "codemirror_mode": {
    "name": "ipython",
    "version": 3
   },
   "file_extension": ".py",
   "mimetype": "text/x-python",
   "name": "python",
   "nbconvert_exporter": "python",
   "pygments_lexer": "ipython3",
   "version": "3.10.12"
  }
 },
 "nbformat": 4,
 "nbformat_minor": 5
}
